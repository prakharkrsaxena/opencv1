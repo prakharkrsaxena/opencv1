{
 "cells": [
  {
   "cell_type": "code",
   "execution_count": 1,
   "metadata": {},
   "outputs": [
    {
     "name": "stdout",
     "output_type": "stream",
     "text": [
      "image shape:  (512, 512, 3)\n"
     ]
    }
   ],
   "source": [
    "import cv2\n",
    "import numpy as np\n",
    "#img_1 = np.zeros([512,512,1],dtype=np.uint8)\n",
    "#img_1.fill(255)\n",
    "# or img[:] = 255\n",
    "#cv2.imshow('Single Channel Window', img_1)\n",
    "#print(\"image shape: \", img_1.shape)\n",
    " \n",
    "img_3 = np.zeros([512,512,3],dtype=np.uint8)\n",
    "img_3.fill(255)\n",
    "# or img[:] = 255\n",
    "cv2.imshow('3 Channel Window', img_3)\n",
    "print(\"image shape: \", img_3.shape)\n",
    "cv2.waitKey(0)\n",
    "cv2.destroyAllWindows()"
   ]
  },
  {
   "cell_type": "code",
   "execution_count": 2,
   "metadata": {},
   "outputs": [
    {
     "name": "stdout",
     "output_type": "stream",
     "text": [
      "(720, 1280, 3)\n"
     ]
    }
   ],
   "source": [
    "\n",
    "\n",
    "face_cascade = cv2.CascadeClassifier('haarcascade_frontalface_default.xml')\n",
    "#eye_cascade = cv2.CascadeClassifier('haarcascade_eye.xml')\n",
    "#for img in \n",
    "img = cv2.imread('/home/prakhar/SEPL_Finishing/Test_Images/1564629323_12.8918067_77.6502314_19800.jpg')\n",
    "print(img.shape)\n",
    "gray = cv2.cvtColor(img, cv2.COLOR_BGR2GRAY)"
   ]
  },
  {
   "cell_type": "code",
   "execution_count": 3,
   "metadata": {},
   "outputs": [
    {
     "name": "stdout",
     "output_type": "stream",
     "text": [
      "Found 2 Faces!\n",
      " Object found. Saving locally.\n",
      " Object found. Saving locally.\n",
      "Image faces_detected.jpg written to filesystem:  True\n"
     ]
    }
   ],
   "source": [
    "import sys\n",
    "\n",
    "imagePath = sys.argv[1]\n",
    "image = cv2.imread('/home/prakhar/SEPL_Finishing/Test_Images/1564629323_12.8918067_77.6502314_19800.jpg')\n",
    "gray = cv2.cvtColor(image, cv2.COLOR_BGR2GRAY)\n",
    "faceCascade = cv2.CascadeClassifier(cv2.data.haarcascades + \"haarcascade_frontalface_default.xml\")\n",
    "faces = faceCascade.detectMultiScale(\n",
    "        gray,\n",
    "        scaleFactor=1.3,\n",
    "        minNeighbors=3,\n",
    "        minSize=(30, 30)\n",
    ") \n",
    "\n",
    "print(\"Found {0} Faces!\".format(len(faces)))\n",
    "for (x, y, w, h) in faces:\n",
    "    a=(0.40*h)\n",
    "    b=(h+(0.33*h))\n",
    "    c=(w+(0.33*w))\n",
    "    cv2.rectangle(image, (x-int(a/2),y-int(a)),(x+int(c),y+int(b)), (0, 255, 0), 2)\n",
    "    roi_color = image[y-int(a):y + int(b), x-int(a/2):x + int(c)]\n",
    "    img_3 = np.zeros([720, 1280, 3],dtype=np.uint8)\n",
    "    img_3.fill(255)\n",
    "    #img_3=cv2.resize(roi_color,(w,h))  \n",
    "    img_3[y-int(a):y + int(b),x-int(a/2):x + int(c)]=roi_color\n",
    "    print(\" Object found. Saving locally.\") \n",
    "    cv2.imwrite(str(w) + str(h) + '_faces.jpg', img_3) \n",
    "status = cv2.imwrite('faces_detected.jpg', image)\n",
    "print (\"Image faces_detected.jpg written to filesystem: \",status)\n",
    "\n"
   ]
  },
  {
   "cell_type": "code",
   "execution_count": null,
   "metadata": {},
   "outputs": [],
   "source": []
  }
 ],
 "metadata": {
  "kernelspec": {
   "display_name": ".venv",
   "language": "python",
   "name": ".venv"
  },
  "language_info": {
   "codemirror_mode": {
    "name": "ipython",
    "version": 3
   },
   "file_extension": ".py",
   "mimetype": "text/x-python",
   "name": "python",
   "nbconvert_exporter": "python",
   "pygments_lexer": "ipython3",
   "version": "3.6.8"
  }
 },
 "nbformat": 4,
 "nbformat_minor": 2
}
